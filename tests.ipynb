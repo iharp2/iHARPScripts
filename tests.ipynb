{
 "cells": [
  {
   "cell_type": "code",
   "execution_count": 1,
   "metadata": {},
   "outputs": [],
   "source": [
    "from iHARPExecutor import iHARPExecutor\n",
    "\n",
    "exec = iHARPExecutor()"
   ]
  },
  {
   "cell_type": "code",
   "execution_count": 2,
   "metadata": {},
   "outputs": [
    {
     "ename": "ValueError",
     "evalue": "Invalid isoformat string: '2023-12-'",
     "output_type": "error",
     "traceback": [
      "\u001b[0;31m---------------------------------------------------------------------------\u001b[0m",
      "\u001b[0;31mValueError\u001b[0m                                Traceback (most recent call last)",
      "Cell \u001b[0;32mIn[2], line 13\u001b[0m\n\u001b[1;32m     10\u001b[0m spatial_resolution\u001b[38;5;241m=\u001b[39m\u001b[38;5;241m0.25\u001b[39m\n\u001b[1;32m     11\u001b[0m spatial_agg_method\u001b[38;5;241m=\u001b[39m\u001b[38;5;124m\"\u001b[39m\u001b[38;5;124mmean\u001b[39m\u001b[38;5;124m\"\u001b[39m\n\u001b[0;32m---> 13\u001b[0m \u001b[43mexec\u001b[49m\u001b[38;5;241;43m.\u001b[39;49m\u001b[43mgetRaster\u001b[49m\u001b[43m(\u001b[49m\n\u001b[1;32m     14\u001b[0m \u001b[43m    \u001b[49m\u001b[43mvariable\u001b[49m\u001b[38;5;241;43m=\u001b[39;49m\u001b[43mvariable\u001b[49m\u001b[43m,\u001b[49m\n\u001b[1;32m     15\u001b[0m \u001b[43m    \u001b[49m\u001b[43mstart_datetime\u001b[49m\u001b[38;5;241;43m=\u001b[39;49m\u001b[43mstart_datetime\u001b[49m\u001b[43m,\u001b[49m\n\u001b[1;32m     16\u001b[0m \u001b[43m    \u001b[49m\u001b[43mend_datetime\u001b[49m\u001b[38;5;241;43m=\u001b[39;49m\u001b[43mend_datetime\u001b[49m\u001b[43m,\u001b[49m\n\u001b[1;32m     17\u001b[0m \u001b[43m    \u001b[49m\u001b[43mtime_resolution\u001b[49m\u001b[38;5;241;43m=\u001b[39;49m\u001b[43mtime_resolution\u001b[49m\u001b[43m,\u001b[49m\n\u001b[1;32m     18\u001b[0m \u001b[43m    \u001b[49m\u001b[43mtime_agg_method\u001b[49m\u001b[38;5;241;43m=\u001b[39;49m\u001b[43mtime_agg_method\u001b[49m\u001b[43m,\u001b[49m\n\u001b[1;32m     19\u001b[0m \u001b[43m    \u001b[49m\u001b[43msouth\u001b[49m\u001b[38;5;241;43m=\u001b[39;49m\u001b[43mmin_lat\u001b[49m\u001b[43m,\u001b[49m\n\u001b[1;32m     20\u001b[0m \u001b[43m    \u001b[49m\u001b[43mnorth\u001b[49m\u001b[38;5;241;43m=\u001b[39;49m\u001b[43mmax_lat\u001b[49m\u001b[43m,\u001b[49m\n\u001b[1;32m     21\u001b[0m \u001b[43m    \u001b[49m\u001b[43meast\u001b[49m\u001b[38;5;241;43m=\u001b[39;49m\u001b[43mmin_lon\u001b[49m\u001b[43m,\u001b[49m\n\u001b[1;32m     22\u001b[0m \u001b[43m    \u001b[49m\u001b[43mwest\u001b[49m\u001b[38;5;241;43m=\u001b[39;49m\u001b[43mmax_lat\u001b[49m\u001b[43m,\u001b[49m\n\u001b[1;32m     23\u001b[0m \u001b[43m    \u001b[49m\u001b[43mspatial_resolution\u001b[49m\u001b[38;5;241;43m=\u001b[39;49m\u001b[43mspatial_resolution\u001b[49m\u001b[43m,\u001b[49m\n\u001b[1;32m     24\u001b[0m \u001b[43m    \u001b[49m\u001b[43mspatial_agg_method\u001b[49m\u001b[38;5;241;43m=\u001b[39;49m\u001b[43mspatial_agg_method\u001b[49m\n\u001b[1;32m     25\u001b[0m \u001b[43m)\u001b[49m\n",
      "File \u001b[0;32m~/Github/iHARPScripts/iHARPExecutor.py:88\u001b[0m, in \u001b[0;36miHARPExecutor.getRaster\u001b[0;34m(self, variable, start_datetime, end_datetime, time_resolution, time_agg_method, south, north, west, east, spatial_resolution, spatial_agg_method)\u001b[0m\n\u001b[1;32m     84\u001b[0m \u001b[38;5;28mself\u001b[39m\u001b[38;5;241m.\u001b[39mlon_range, \u001b[38;5;28mself\u001b[39m\u001b[38;5;241m.\u001b[39mlat_range \u001b[38;5;241m=\u001b[39m \u001b[38;5;28mslice\u001b[39m(\u001b[38;5;28mself\u001b[39m\u001b[38;5;241m.\u001b[39mmin_lon, \u001b[38;5;28mself\u001b[39m\u001b[38;5;241m.\u001b[39mmax_lon), \u001b[38;5;28mslice\u001b[39m(\n\u001b[1;32m     85\u001b[0m     \u001b[38;5;28mself\u001b[39m\u001b[38;5;241m.\u001b[39mmax_lat, \u001b[38;5;28mself\u001b[39m\u001b[38;5;241m.\u001b[39mmin_lat\n\u001b[1;32m     86\u001b[0m )\n\u001b[1;32m     87\u001b[0m \u001b[38;5;28mself\u001b[39m\u001b[38;5;241m.\u001b[39mstartDateTime, \u001b[38;5;28mself\u001b[39m\u001b[38;5;241m.\u001b[39mendDateTime \u001b[38;5;241m=\u001b[39m start_datetime[:\u001b[38;5;241m-\u001b[39m\u001b[38;5;241m11\u001b[39m], end_datetime[:\u001b[38;5;241m-\u001b[39m\u001b[38;5;241m11\u001b[39m]\n\u001b[0;32m---> 88\u001b[0m \u001b[38;5;28;43mself\u001b[39;49m\u001b[38;5;241;43m.\u001b[39;49m\u001b[43mextract_date_time_info\u001b[49m\u001b[43m(\u001b[49m\u001b[38;5;28;43mself\u001b[39;49m\u001b[38;5;241;43m.\u001b[39;49m\u001b[43mstartDateTime\u001b[49m\u001b[43m,\u001b[49m\u001b[43m \u001b[49m\u001b[38;5;28;43mself\u001b[39;49m\u001b[38;5;241;43m.\u001b[39;49m\u001b[43mendDateTime\u001b[49m\u001b[43m)\u001b[49m\n\u001b[1;32m     90\u001b[0m \u001b[38;5;28;01mif\u001b[39;00m \u001b[38;5;28mself\u001b[39m\u001b[38;5;241m.\u001b[39mtime_resolution \u001b[38;5;241m==\u001b[39m \u001b[38;5;124m\"\u001b[39m\u001b[38;5;124mHourly\u001b[39m\u001b[38;5;124m\"\u001b[39m:\n\u001b[1;32m     91\u001b[0m     \u001b[38;5;66;03m# Yuchuan: No need for 2 cases\u001b[39;00m\n\u001b[1;32m     92\u001b[0m     ds_list \u001b[38;5;241m=\u001b[39m []\n",
      "File \u001b[0;32m~/Github/iHARPScripts/iHARPExecutor.py:26\u001b[0m, in \u001b[0;36miHARPExecutor.extract_date_time_info\u001b[0;34m(self, start_date_time_str, end_date_time_str)\u001b[0m\n\u001b[1;32m     24\u001b[0m \u001b[38;5;28;01mdef\u001b[39;00m \u001b[38;5;21mextract_date_time_info\u001b[39m(\u001b[38;5;28mself\u001b[39m, start_date_time_str, end_date_time_str):\n\u001b[1;32m     25\u001b[0m     \u001b[38;5;66;03m# Parse start date-time string\u001b[39;00m\n\u001b[0;32m---> 26\u001b[0m     start_date_time \u001b[38;5;241m=\u001b[39m \u001b[43mdatetime\u001b[49m\u001b[38;5;241;43m.\u001b[39;49m\u001b[43mfromisoformat\u001b[49m\u001b[43m(\u001b[49m\u001b[43mstart_date_time_str\u001b[49m\u001b[38;5;241;43m.\u001b[39;49m\u001b[43mrstrip\u001b[49m\u001b[43m(\u001b[49m\u001b[38;5;124;43m\"\u001b[39;49m\u001b[38;5;124;43mZ\u001b[39;49m\u001b[38;5;124;43m\"\u001b[39;49m\u001b[43m)\u001b[49m\u001b[43m)\u001b[49m\n\u001b[1;32m     27\u001b[0m     \u001b[38;5;66;03m# Parse end date-time string\u001b[39;00m\n\u001b[1;32m     28\u001b[0m     end_date_time \u001b[38;5;241m=\u001b[39m datetime\u001b[38;5;241m.\u001b[39mfromisoformat(end_date_time_str\u001b[38;5;241m.\u001b[39mrstrip(\u001b[38;5;124m\"\u001b[39m\u001b[38;5;124mZ\u001b[39m\u001b[38;5;124m\"\u001b[39m))\n",
      "\u001b[0;31mValueError\u001b[0m: Invalid isoformat string: '2023-12-'"
     ]
    }
   ],
   "source": [
    "variable=\"2m_temperature\"\n",
    "start_datetime=\"2023-12-01 09:00:00\"\n",
    "end_datetime=\"2023-12-31 09:00:00\"\n",
    "time_resolution=\"day\"\n",
    "time_agg_method=\"mean\"\n",
    "min_lat=70\n",
    "max_lat=80\n",
    "min_lon=-60\n",
    "max_lon=-20\n",
    "spatial_resolution=0.25\n",
    "spatial_agg_method=\"mean\"\n",
    "\n",
    "exec.getRaster(\n",
    "    variable=variable,\n",
    "    start_datetime=start_datetime,\n",
    "    end_datetime=end_datetime,\n",
    "    time_resolution=time_resolution,\n",
    "    time_agg_method=time_agg_method,\n",
    "    south=min_lat,\n",
    "    north=max_lat,\n",
    "    east=min_lon,\n",
    "    west=max_lat,\n",
    "    spatial_resolution=spatial_resolution,\n",
    "    spatial_agg_method=spatial_agg_method\n",
    ")\n"
   ]
  },
  {
   "cell_type": "code",
   "execution_count": null,
   "metadata": {},
   "outputs": [],
   "source": []
  }
 ],
 "metadata": {
  "kernelspec": {
   "display_name": "venv",
   "language": "python",
   "name": "python3"
  },
  "language_info": {
   "codemirror_mode": {
    "name": "ipython",
    "version": 3
   },
   "file_extension": ".py",
   "mimetype": "text/x-python",
   "name": "python",
   "nbconvert_exporter": "python",
   "pygments_lexer": "ipython3",
   "version": "3.11.9"
  }
 },
 "nbformat": 4,
 "nbformat_minor": 2
}
