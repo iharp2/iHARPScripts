{
 "cells": [
  {
   "cell_type": "code",
   "execution_count": 1,
   "metadata": {},
   "outputs": [],
   "source": [
    "from iHARPExecutor import iHARPExecuter\n",
    "\n",
    "exec = iHARPExecuter()"
   ]
  },
  {
   "cell_type": "code",
   "execution_count": 4,
   "metadata": {},
   "outputs": [
    {
     "name": "stdout",
     "output_type": "stream",
     "text": [
      "Hello\n",
      "Hey  daily\n",
      "/data/era5/preprocessed/t2m/combined_dailymean_2014_2023.nc\n"
     ]
    },
    {
     "ename": "ValueError",
     "evalue": "Could not coarsen a dimension of size 41 with window 2.0 and boundary='exact'. Try a different 'boundary' option.",
     "output_type": "error",
     "traceback": [
      "\u001b[0;31m---------------------------------------------------------------------------\u001b[0m",
      "\u001b[0;31mValueError\u001b[0m                                Traceback (most recent call last)",
      "\u001b[1;32m/data/iHARPScripts/tests.ipynb Cell 2\u001b[0m line \u001b[0;36m1\n\u001b[1;32m     <a href='vscode-notebook-cell://ssh-remote%2Bspatial-516/data/iHARPScripts/tests.ipynb#W1sdnNjb2RlLXJlbW90ZQ%3D%3D?line=9'>10</a>\u001b[0m spatial_resolution\u001b[39m=\u001b[39m\u001b[39m0.5\u001b[39m\n\u001b[1;32m     <a href='vscode-notebook-cell://ssh-remote%2Bspatial-516/data/iHARPScripts/tests.ipynb#W1sdnNjb2RlLXJlbW90ZQ%3D%3D?line=10'>11</a>\u001b[0m spatial_agg_method\u001b[39m=\u001b[39m\u001b[39m\"\u001b[39m\u001b[39mmean\u001b[39m\u001b[39m\"\u001b[39m\n\u001b[0;32m---> <a href='vscode-notebook-cell://ssh-remote%2Bspatial-516/data/iHARPScripts/tests.ipynb#W1sdnNjb2RlLXJlbW90ZQ%3D%3D?line=12'>13</a>\u001b[0m exec\u001b[39m.\u001b[39;49mgetRaster(\n\u001b[1;32m     <a href='vscode-notebook-cell://ssh-remote%2Bspatial-516/data/iHARPScripts/tests.ipynb#W1sdnNjb2RlLXJlbW90ZQ%3D%3D?line=13'>14</a>\u001b[0m     variable\u001b[39m=\u001b[39;49mvariable,\n\u001b[1;32m     <a href='vscode-notebook-cell://ssh-remote%2Bspatial-516/data/iHARPScripts/tests.ipynb#W1sdnNjb2RlLXJlbW90ZQ%3D%3D?line=14'>15</a>\u001b[0m     start_datetime\u001b[39m=\u001b[39;49mstart_datetime,\n\u001b[1;32m     <a href='vscode-notebook-cell://ssh-remote%2Bspatial-516/data/iHARPScripts/tests.ipynb#W1sdnNjb2RlLXJlbW90ZQ%3D%3D?line=15'>16</a>\u001b[0m     end_datetime\u001b[39m=\u001b[39;49mend_datetime,\n\u001b[1;32m     <a href='vscode-notebook-cell://ssh-remote%2Bspatial-516/data/iHARPScripts/tests.ipynb#W1sdnNjb2RlLXJlbW90ZQ%3D%3D?line=16'>17</a>\u001b[0m     time_resolution\u001b[39m=\u001b[39;49mtime_resolution,\n\u001b[1;32m     <a href='vscode-notebook-cell://ssh-remote%2Bspatial-516/data/iHARPScripts/tests.ipynb#W1sdnNjb2RlLXJlbW90ZQ%3D%3D?line=17'>18</a>\u001b[0m     time_agg_method\u001b[39m=\u001b[39;49mtime_agg_method,\n\u001b[1;32m     <a href='vscode-notebook-cell://ssh-remote%2Bspatial-516/data/iHARPScripts/tests.ipynb#W1sdnNjb2RlLXJlbW90ZQ%3D%3D?line=18'>19</a>\u001b[0m     south\u001b[39m=\u001b[39;49mmin_lat,\n\u001b[1;32m     <a href='vscode-notebook-cell://ssh-remote%2Bspatial-516/data/iHARPScripts/tests.ipynb#W1sdnNjb2RlLXJlbW90ZQ%3D%3D?line=19'>20</a>\u001b[0m     north\u001b[39m=\u001b[39;49mmax_lat,\n\u001b[1;32m     <a href='vscode-notebook-cell://ssh-remote%2Bspatial-516/data/iHARPScripts/tests.ipynb#W1sdnNjb2RlLXJlbW90ZQ%3D%3D?line=20'>21</a>\u001b[0m     east\u001b[39m=\u001b[39;49mmin_lon,\n\u001b[1;32m     <a href='vscode-notebook-cell://ssh-remote%2Bspatial-516/data/iHARPScripts/tests.ipynb#W1sdnNjb2RlLXJlbW90ZQ%3D%3D?line=21'>22</a>\u001b[0m     west\u001b[39m=\u001b[39;49mmax_lat,\n\u001b[1;32m     <a href='vscode-notebook-cell://ssh-remote%2Bspatial-516/data/iHARPScripts/tests.ipynb#W1sdnNjb2RlLXJlbW90ZQ%3D%3D?line=22'>23</a>\u001b[0m     spatial_resolution\u001b[39m=\u001b[39;49mspatial_resolution,\n\u001b[1;32m     <a href='vscode-notebook-cell://ssh-remote%2Bspatial-516/data/iHARPScripts/tests.ipynb#W1sdnNjb2RlLXJlbW90ZQ%3D%3D?line=23'>24</a>\u001b[0m     spatial_agg_method\u001b[39m=\u001b[39;49mspatial_agg_method\n\u001b[1;32m     <a href='vscode-notebook-cell://ssh-remote%2Bspatial-516/data/iHARPScripts/tests.ipynb#W1sdnNjb2RlLXJlbW90ZQ%3D%3D?line=24'>25</a>\u001b[0m )\n",
      "File \u001b[0;32m/data/iHARPScripts/iHARPExecutor.py:186\u001b[0m, in \u001b[0;36miHARPExecuter.getRaster\u001b[0;34m(self, variable, start_datetime, end_datetime, time_resolution, time_agg_method, south, north, west, east, spatial_resolution, spatial_agg_method)\u001b[0m\n\u001b[1;32m    181\u001b[0m coarsened \u001b[39m=\u001b[39m ds\u001b[39m.\u001b[39mcoarsen(\n\u001b[1;32m    182\u001b[0m     latitude\u001b[39m=\u001b[39m\u001b[39mself\u001b[39m\u001b[39m.\u001b[39mspatial_resolution \u001b[39m/\u001b[39m \u001b[39m0.25\u001b[39m,\n\u001b[1;32m    183\u001b[0m     longitude\u001b[39m=\u001b[39m\u001b[39mself\u001b[39m\u001b[39m.\u001b[39mspatial_resolution \u001b[39m/\u001b[39m \u001b[39m0.25\u001b[39m,\n\u001b[1;32m    184\u001b[0m )\n\u001b[1;32m    185\u001b[0m \u001b[39mif\u001b[39;00m \u001b[39mself\u001b[39m\u001b[39m.\u001b[39mspatial_agg_method \u001b[39m==\u001b[39m \u001b[39m\"\u001b[39m\u001b[39mmean\u001b[39m\u001b[39m\"\u001b[39m:\n\u001b[0;32m--> 186\u001b[0m     ds \u001b[39m=\u001b[39m coarsened\u001b[39m.\u001b[39;49mmean()\n\u001b[1;32m    187\u001b[0m \u001b[39melif\u001b[39;00m \u001b[39mself\u001b[39m\u001b[39m.\u001b[39mspatial_agg_method \u001b[39m==\u001b[39m \u001b[39m\"\u001b[39m\u001b[39mmin\u001b[39m\u001b[39m\"\u001b[39m:\n\u001b[1;32m    188\u001b[0m     ds \u001b[39m=\u001b[39m coarsened\u001b[39m.\u001b[39mmin()\n",
      "File \u001b[0;32m~/.local/lib/python3.10/site-packages/xarray/core/rolling.py:1217\u001b[0m, in \u001b[0;36mDatasetCoarsen._reduce_method.<locals>.wrapped_func\u001b[0;34m(self, keep_attrs, **kwargs)\u001b[0m\n\u001b[1;32m   1215\u001b[0m reduced \u001b[39m=\u001b[39m {}\n\u001b[1;32m   1216\u001b[0m \u001b[39mfor\u001b[39;00m key, da \u001b[39min\u001b[39;00m \u001b[39mself\u001b[39m\u001b[39m.\u001b[39mobj\u001b[39m.\u001b[39mdata_vars\u001b[39m.\u001b[39mitems():\n\u001b[0;32m-> 1217\u001b[0m     reduced[key] \u001b[39m=\u001b[39m da\u001b[39m.\u001b[39;49mvariable\u001b[39m.\u001b[39;49mcoarsen(\n\u001b[1;32m   1218\u001b[0m         \u001b[39mself\u001b[39;49m\u001b[39m.\u001b[39;49mwindows,\n\u001b[1;32m   1219\u001b[0m         func,\n\u001b[1;32m   1220\u001b[0m         \u001b[39mself\u001b[39;49m\u001b[39m.\u001b[39;49mboundary,\n\u001b[1;32m   1221\u001b[0m         \u001b[39mself\u001b[39;49m\u001b[39m.\u001b[39;49mside,\n\u001b[1;32m   1222\u001b[0m         keep_attrs\u001b[39m=\u001b[39;49mkeep_attrs,\n\u001b[1;32m   1223\u001b[0m         \u001b[39m*\u001b[39;49m\u001b[39m*\u001b[39;49mkwargs,\n\u001b[1;32m   1224\u001b[0m     )\n\u001b[1;32m   1226\u001b[0m coords \u001b[39m=\u001b[39m {}\n\u001b[1;32m   1227\u001b[0m \u001b[39mfor\u001b[39;00m c, v \u001b[39min\u001b[39;00m \u001b[39mself\u001b[39m\u001b[39m.\u001b[39mobj\u001b[39m.\u001b[39mcoords\u001b[39m.\u001b[39mitems():\n\u001b[1;32m   1228\u001b[0m     \u001b[39m# variable.coarsen returns variables not containing the window dims\u001b[39;00m\n\u001b[1;32m   1229\u001b[0m     \u001b[39m# unchanged (maybe removes attrs)\u001b[39;00m\n",
      "File \u001b[0;32m~/.local/lib/python3.10/site-packages/xarray/core/variable.py:2108\u001b[0m, in \u001b[0;36mVariable.coarsen\u001b[0;34m(self, windows, func, boundary, side, keep_attrs, **kwargs)\u001b[0m\n\u001b[1;32m   2105\u001b[0m \u001b[39mif\u001b[39;00m \u001b[39mnot\u001b[39;00m windows:\n\u001b[1;32m   2106\u001b[0m     \u001b[39mreturn\u001b[39;00m \u001b[39mself\u001b[39m\u001b[39m.\u001b[39m_replace(attrs\u001b[39m=\u001b[39m_attrs)\n\u001b[0;32m-> 2108\u001b[0m reshaped, axes \u001b[39m=\u001b[39m \u001b[39mself\u001b[39;49m\u001b[39m.\u001b[39;49mcoarsen_reshape(windows, boundary, side)\n\u001b[1;32m   2109\u001b[0m \u001b[39mif\u001b[39;00m \u001b[39misinstance\u001b[39m(func, \u001b[39mstr\u001b[39m):\n\u001b[1;32m   2110\u001b[0m     name \u001b[39m=\u001b[39m func\n",
      "File \u001b[0;32m~/.local/lib/python3.10/site-packages/xarray/core/variable.py:2144\u001b[0m, in \u001b[0;36mVariable.coarsen_reshape\u001b[0;34m(self, windows, boundary, side)\u001b[0m\n\u001b[1;32m   2142\u001b[0m \u001b[39mif\u001b[39;00m boundary[d] \u001b[39m==\u001b[39m \u001b[39m\"\u001b[39m\u001b[39mexact\u001b[39m\u001b[39m\"\u001b[39m:\n\u001b[1;32m   2143\u001b[0m     \u001b[39mif\u001b[39;00m n \u001b[39m*\u001b[39m window \u001b[39m!=\u001b[39m size:\n\u001b[0;32m-> 2144\u001b[0m         \u001b[39mraise\u001b[39;00m \u001b[39mValueError\u001b[39;00m(\n\u001b[1;32m   2145\u001b[0m             \u001b[39mf\u001b[39m\u001b[39m\"\u001b[39m\u001b[39mCould not coarsen a dimension of size \u001b[39m\u001b[39m{\u001b[39;00msize\u001b[39m}\u001b[39;00m\u001b[39m with \u001b[39m\u001b[39m\"\u001b[39m\n\u001b[1;32m   2146\u001b[0m             \u001b[39mf\u001b[39m\u001b[39m\"\u001b[39m\u001b[39mwindow \u001b[39m\u001b[39m{\u001b[39;00mwindow\u001b[39m}\u001b[39;00m\u001b[39m and boundary=\u001b[39m\u001b[39m'\u001b[39m\u001b[39mexact\u001b[39m\u001b[39m'\u001b[39m\u001b[39m. Try a different \u001b[39m\u001b[39m'\u001b[39m\u001b[39mboundary\u001b[39m\u001b[39m'\u001b[39m\u001b[39m option.\u001b[39m\u001b[39m\"\u001b[39m\n\u001b[1;32m   2147\u001b[0m         )\n\u001b[1;32m   2148\u001b[0m \u001b[39melif\u001b[39;00m boundary[d] \u001b[39m==\u001b[39m \u001b[39m\"\u001b[39m\u001b[39mtrim\u001b[39m\u001b[39m\"\u001b[39m:\n\u001b[1;32m   2149\u001b[0m     \u001b[39mif\u001b[39;00m side[d] \u001b[39m==\u001b[39m \u001b[39m\"\u001b[39m\u001b[39mleft\u001b[39m\u001b[39m\"\u001b[39m:\n",
      "\u001b[0;31mValueError\u001b[0m: Could not coarsen a dimension of size 41 with window 2.0 and boundary='exact'. Try a different 'boundary' option."
     ]
    }
   ],
   "source": [
    "variable=\"t2m\"\n",
    "start_datetime=\"2024-02-01T01:00:00.000Z\"\n",
    "end_datetime=\"2024-02-01T02:00:00.000Z\"\n",
    "time_resolution=\"daily\"\n",
    "time_agg_method=\"mean\"\n",
    "min_lat=80\n",
    "max_lat=70\n",
    "min_lon=-60\n",
    "max_lon=-20\n",
    "spatial_resolution=0.5\n",
    "spatial_agg_method=\"mean\"\n",
    "\n",
    "exec.getRaster(\n",
    "    variable=variable,\n",
    "    start_datetime=start_datetime,\n",
    "    end_datetime=end_datetime,\n",
    "    time_resolution=time_resolution,\n",
    "    time_agg_method=time_agg_method,\n",
    "    south=min_lat,\n",
    "    north=max_lat,\n",
    "    east=min_lon,\n",
    "    west=max_lat,\n",
    "    spatial_resolution=spatial_resolution,\n",
    "    spatial_agg_method=spatial_agg_method\n",
    ")\n"
   ]
  },
  {
   "cell_type": "code",
   "execution_count": null,
   "metadata": {},
   "outputs": [],
   "source": []
  }
 ],
 "metadata": {
  "kernelspec": {
   "display_name": "venv",
   "language": "python",
   "name": "python3"
  },
  "language_info": {
   "codemirror_mode": {
    "name": "ipython",
    "version": 3
   },
   "file_extension": ".py",
   "mimetype": "text/x-python",
   "name": "python",
   "nbconvert_exporter": "python",
   "pygments_lexer": "ipython3",
   "version": "3.10.12"
  }
 },
 "nbformat": 4,
 "nbformat_minor": 2
}
